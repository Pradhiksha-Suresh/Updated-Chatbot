{
 "cells": [
  {
   "cell_type": "code",
   "execution_count": null,
   "id": "01b563d2-bbd7-4391-b0ec-5af64a70b147",
   "metadata": {},
   "outputs": [],
   "source": [
    "#pip install bertopic\n",
    "#pip install --upgrade jupyter ipywidgets\n",
    "#pip install PyMuPDF bertopic sklearn"
   ]
  },
  {
   "cell_type": "code",
   "execution_count": 1,
   "id": "3272bcd7-cf7d-44e1-9e13-60aa939179cd",
   "metadata": {},
   "outputs": [],
   "source": [
    "import fitz  # PyMuPDF\n",
    "from bertopic import BERTopic\n",
    "from sklearn.feature_extraction.text import CountVectorizer\n",
    "from langchain.text_splitter import TokenTextSplitter\n",
    "from sklearn.feature_extraction.text import CountVectorizer"
   ]
  },
  {
   "cell_type": "code",
   "execution_count": 2,
   "id": "b0612735-51ce-4b98-bb03-c07197b7e7d9",
   "metadata": {},
   "outputs": [],
   "source": [
    "# Function to extract text from PDF\n",
    "def extract_text_from_pdf(pdf_path):\n",
    "    doc = fitz.open(pdf_path)\n",
    "    text = \"\"\n",
    "    for page_num in range(len(doc)):\n",
    "        page = doc.load_page(page_num)\n",
    "        text += page.get_text()\n",
    "    return text"
   ]
  },
  {
   "cell_type": "code",
   "execution_count": 6,
   "id": "dffb8740-574b-41a1-9384-70d125ff0335",
   "metadata": {},
   "outputs": [],
   "source": [
    "# Function to enrich metadata and log history\n",
    "def enrich_metadata(pdf_path):\n",
    "    # Extract text from the PDF\n",
    "    pdf_text = extract_text_from_pdf(pdf_path)\n",
    "    \n",
    "    # Initialize the TokenTextSplitter with desired chunk size and overlap\n",
    "    text_splitter = TokenTextSplitter(chunk_size=50, chunk_overlap=0)\n",
    "    chunks = text_splitter.split_text(pdf_text)\n",
    "    \n",
    "    # Initialize the CountVectorizer with stop words removal\n",
    "    vectorizer_model = CountVectorizer(stop_words=\"english\")\n",
    "    \n",
    "    # Fit the vectorizer on the text to learn the vocabulary\n",
    "    vectorizer_model.fit([pdf_text])\n",
    "    \n",
    "    # Initialize the TokenTextSplitter with a smaller chunk size and overlap\n",
    "    text_splitter = TokenTextSplitter(chunk_size=50, chunk_overlap=0)\n",
    "    chunks = text_splitter.split_text(pdf_text)\n",
    "    \n",
    "    # Create and fit the BERTopic model using the CountVectorizer\n",
    "    topic_model = BERTopic(vectorizer_model=vectorizer_model)\n",
    "    topics, probs = topic_model.fit_transform(chunks)\n",
    "    \n",
    "    # Get information about the identified topics\n",
    "    topic_info = topic_model.get_topic_info()\n",
    "    \n",
    "    # Metadata for the PDF document\n",
    "    title = 'The Solar System'\n",
    "    author = 'xyz'\n",
    "    url = 'http://localhost:8888/edit/Documents/Python/solarsystem.pdf'\n",
    "    \n",
    "    # Log metadata and topics into a list\n",
    "    keys = []\n",
    "    for i in range(len(chunks)):\n",
    "        text = chunks[i]\n",
    "        \n",
    "        keys.append({\n",
    "            'document': pdf_path,\n",
    "            'title': title,\n",
    "            'author': author,\n",
    "            'url': url,\n",
    "            'doc': text,\n",
    "            'topics': topic_info\n",
    "        })\n",
    "        \n",
    "    return keys"
   ]
  },
  {
   "cell_type": "code",
   "execution_count": 7,
   "id": "6a3433b3-67e5-4454-9448-4d2e235d2ac3",
   "metadata": {},
   "outputs": [],
   "source": [
    "# Define the writehistory function \n",
    "def writehistory(logging_text):\n",
    "    with open(\"history.log\", \"a\", encoding=\"utf-8\") as log_file:\n",
    "        log_file.write(logging_text + \"\\n\")"
   ]
  },
  {
   "cell_type": "code",
   "execution_count": 8,
   "id": "0046d5d8-5aa9-4e52-ae64-357997fce61d",
   "metadata": {},
   "outputs": [
    {
     "name": "stdout",
     "output_type": "stream",
     "text": [
      "{'document': '/Users/pradhikshasuresh/Documents/Python/The Solar System.pdf', 'title': 'The Solar System', 'author': 'xyz', 'url': 'http://localhost:8888/edit/Documents/Python/solarsystem.pdf', 'doc': \" and light to support life on Earth. It is by far the largest object in the solar system, containing more \\nthan 99.8% of the total mass. The Sun's immense gravity keeps the planets and other objects in orbit around \\n\", 'topics':    Topic  Count                         Name  \\\n",
      "0     -1     16  -1_planet_planets_solar_sun   \n",
      "\n",
      "                                      Representation  \\\n",
      "0  [planet, planets, solar, sun, jupiter, dwarf, ...   \n",
      "\n",
      "                                 Representative_Docs  \n",
      "0  [planets, their moons, dwarf planets, and coun...  }\n"
     ]
    }
   ],
   "source": [
    "# Example usage\n",
    "pdf_path = '/Users/pradhikshasuresh/Documents/Python/The Solar System.pdf'\n",
    "enriched_metadata = enrich_metadata(pdf_path)\n",
    "print(enriched_metadata[2])  # Print metadata and keywords for the third chunk"
   ]
  }
 ],
 "metadata": {
  "kernelspec": {
   "display_name": "Python 3 (ipykernel)",
   "language": "python",
   "name": "python3"
  },
  "language_info": {
   "codemirror_mode": {
    "name": "ipython",
    "version": 3
   },
   "file_extension": ".py",
   "mimetype": "text/x-python",
   "name": "python",
   "nbconvert_exporter": "python",
   "pygments_lexer": "ipython3",
   "version": "3.12.4"
  }
 },
 "nbformat": 4,
 "nbformat_minor": 5
}
