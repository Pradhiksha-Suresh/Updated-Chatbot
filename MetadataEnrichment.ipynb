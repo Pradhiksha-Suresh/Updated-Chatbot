{
 "cells": [
  {
   "cell_type": "code",
   "execution_count": 1,
   "id": "51df6ca4-3db7-4bae-a635-b4b3455221cc",
   "metadata": {},
   "outputs": [],
   "source": [
    "from bertopic import BERTopic\n",
    "from sklearn.feature_extraction.text import CountVectorizer\n",
    "import fitz  # PyMuPDF\n",
    "from langchain.text_splitter import TokenTextSplitter\n",
    "import datetime\n",
    "from rich.console import Console\n",
    "from keybert import KeyBERT"
   ]
  },
  {
   "cell_type": "code",
   "execution_count": 2,
   "id": "4d71b488-1b6d-4cb2-91e0-23f8a1168f66",
   "metadata": {},
   "outputs": [],
   "source": [
    "# Function to extract text from PDF\n",
    "def extract_text_from_pdf(pdf_path):\n",
    "    doc = fitz.open(pdf_path)\n",
    "    text = \"\"\n",
    "    for page_num in range(len(doc)):\n",
    "        page = doc.load_page(page_num)\n",
    "        text += page.get_text()\n",
    "    return text"
   ]
  },
  {
   "cell_type": "code",
   "execution_count": 18,
   "id": "fc3dac92-7710-40ce-810f-4c5e1eb54318",
   "metadata": {},
   "outputs": [],
   "source": [
    "# Function to enrich metadata and log history\n",
    "def enrich_metadata(pdf_path):\n",
    "    # Extract text from the PDF\n",
    "    pdf_text = extract_text_from_pdf(pdf_path)\n",
    "    \n",
    "    # Initialize the TokenTextSplitter with desired chunk size and overlap\n",
    "    text_splitter = TokenTextSplitter(chunk_size=50, chunk_overlap=0)\n",
    "    chunks = text_splitter.split_text(pdf_text)\n",
    "    \n",
    "    # Initialize the CountVectorizer with stop words removal\n",
    "    vectorizer_model = CountVectorizer(stop_words=\"english\")\n",
    "    \n",
    "    # Fit the vectorizer on the text to learn the vocabulary\n",
    "    vectorizer_model.fit([pdf_text])\n",
    "    \n",
    "    # Create and fit the BERTopic model using the CountVectorizer\n",
    "    topic_model = BERTopic(vectorizer_model=vectorizer_model)\n",
    "    topics, probs = topic_model.fit_transform(chunks)\n",
    "    \n",
    "    # Get information about the identified topics\n",
    "    topic_info = topic_model.get_topic_info()\n",
    "    \n",
    "    # Metadata for the PDF document\n",
    "    title = 'The Solar System'\n",
    "    author = 'xyz'\n",
    "    url = 'http://localhost:8888/edit/Documents/Python/solarsystem.pdf'\n",
    "    \n",
    "    # Log metadata and topics into a list\n",
    "    keys = []\n",
    "    for i in range(len(chunks)):\n",
    "        text = chunks[i]\n",
    "        keywords = extract_keys(text, 1, 0.34)  # Extract keywords using KeyBERT\n",
    "        \n",
    "        keys.append({\n",
    "            'document': pdf_path,\n",
    "            'title': title,\n",
    "            'author': author,\n",
    "            'url': url,\n",
    "            'doc': text,\n",
    "            'keywords': keywords,\n",
    "            'topics': topic_info\n",
    "        })\n",
    "        \n",
    "    return keys"
   ]
  },
  {
   "cell_type": "code",
   "execution_count": 19,
   "id": "76059aa3-b081-4ce7-aa3e-2e594b005ecd",
   "metadata": {},
   "outputs": [],
   "source": [
    "# Define the writehistory function \n",
    "def writehistory(logging_text):\n",
    "    with open(\"history.log\", \"a\", encoding=\"utf-8\") as log_file:\n",
    "        log_file.write(logging_text + \"\\n\")"
   ]
  },
  {
   "cell_type": "code",
   "execution_count": 20,
   "id": "6f9d3015-1924-454d-969c-2f79513a377f",
   "metadata": {},
   "outputs": [],
   "source": [
    "# Function to extract keywords using KeyBERT\n",
    "def extract_keys(text, ngram, dvsity):\n",
    "    kw_model = KeyBERT(model='intfloat/multilingual-e5-base')\n",
    "    a = kw_model.extract_keywords(text, keyphrase_ngram_range=(1, ngram), stop_words='english',\n",
    "                                  use_mmr=True, diversity=dvsity, highlight=True)  # highlight=True\n",
    "    tags = [kw[0] for kw in a]\n",
    "    timestamped = datetime.datetime.now()\n",
    "    # LOG THE TEXT AND THE METATAGS\n",
    "    logging_text = f\"LOGGED ON: {str(timestamped)}\\nMETADATA: {str(tags)}\\nsettings: keyphrase_ngram_range (1,{str(ngram)})  Diversity {str(dvsity)}\\n---\\nORIGINAL TEXT:\\n{text}\\n---\\n\\n\"\n",
    "    writehistory(logging_text)\n",
    "    return tags"
   ]
  },
  {
   "cell_type": "code",
   "execution_count": 21,
   "id": "403bbdea-c1a7-43e6-a849-bf040f8f2f92",
   "metadata": {},
   "outputs": [
    {
     "data": {
      "text/html": [
       "<pre style=\"white-space:pre;overflow-x:auto;line-height:normal;font-family:Menlo,'DejaVu Sans Mono',consolas,'Courier New',monospace\">The <span style=\"color: #000000; text-decoration-color: #000000; background-color: #ffff00\">Solar</span> System The <span style=\"color: #000000; text-decoration-color: #000000; background-color: #ffff00\">solar</span> system is vast and <span style=\"color: #000000; text-decoration-color: #000000; background-color: #ffff00\">fascinating</span> part of our <span style=\"color: #000000; text-decoration-color: #000000; background-color: #ffff00\">universe</span> comprising the Sun and the various \n",
       "<span style=\"color: #000000; text-decoration-color: #000000; background-color: #ffff00\">celestial</span> objects that are bound to it by gravity The primary <span style=\"color: #000000; text-decoration-color: #000000; background-color: #ffff00\">components</span> of the <span style=\"color: #000000; text-decoration-color: #000000; background-color: #ffff00\">solar</span> system are the Sun eight\n",
       "</pre>\n"
      ],
      "text/plain": [
       "The \u001b[30;48;2;255;255;0mSolar\u001b[0m System The \u001b[30;48;2;255;255;0msolar\u001b[0m system is vast and \u001b[30;48;2;255;255;0mfascinating\u001b[0m part of our \u001b[30;48;2;255;255;0muniverse\u001b[0m comprising the Sun and the various \n",
       "\u001b[30;48;2;255;255;0mcelestial\u001b[0m objects that are bound to it by gravity The primary \u001b[30;48;2;255;255;0mcomponents\u001b[0m of the \u001b[30;48;2;255;255;0msolar\u001b[0m system are the Sun eight\n"
      ]
     },
     "metadata": {},
     "output_type": "display_data"
    },
    {
     "data": {
      "text/html": [
       "<pre style=\"white-space:pre;overflow-x:auto;line-height:normal;font-family:Menlo,'DejaVu Sans Mono',consolas,'Courier New',monospace\"><span style=\"color: #000000; text-decoration-color: #000000; background-color: #ffff00\">planets</span> their moons <span style=\"color: #000000; text-decoration-color: #000000; background-color: #ffff00\">dwarf</span> <span style=\"color: #000000; text-decoration-color: #000000; background-color: #ffff00\">planets</span> and countless smaller objects like <span style=\"color: #000000; text-decoration-color: #000000; background-color: #ffff00\">asteroids</span> comets and <span style=\"color: #000000; text-decoration-color: #000000; background-color: #ffff00\">meteoroids</span> At the center \n",
       "of the <span style=\"color: #000000; text-decoration-color: #000000; background-color: #ffff00\">solar</span> system is the Sun nearly perfect sphere of hot plasma that provides the necessary heat\n",
       "</pre>\n"
      ],
      "text/plain": [
       "\u001b[30;48;2;255;255;0mplanets\u001b[0m their moons \u001b[30;48;2;255;255;0mdwarf\u001b[0m \u001b[30;48;2;255;255;0mplanets\u001b[0m and countless smaller objects like \u001b[30;48;2;255;255;0masteroids\u001b[0m comets and \u001b[30;48;2;255;255;0mmeteoroids\u001b[0m At the center \n",
       "of the \u001b[30;48;2;255;255;0msolar\u001b[0m system is the Sun nearly perfect sphere of hot plasma that provides the necessary heat\n"
      ]
     },
     "metadata": {},
     "output_type": "display_data"
    },
    {
     "data": {
      "text/html": [
       "<pre style=\"white-space:pre;overflow-x:auto;line-height:normal;font-family:Menlo,'DejaVu Sans Mono',consolas,'Courier New',monospace\">and light to support life on Earth It is by far the <span style=\"color: #000000; text-decoration-color: #000000; background-color: #ffff00\">largest</span> object in the <span style=\"color: #000000; text-decoration-color: #000000; background-color: #ffff00\">solar</span> system containing more than 99 of \n",
       "the total <span style=\"color: #000000; text-decoration-color: #000000; background-color: #ffff00\">mass</span> The Sun immense <span style=\"color: #000000; text-decoration-color: #000000; background-color: #ffff00\">gravity</span> keeps the <span style=\"color: #000000; text-decoration-color: #000000; background-color: #ffff00\">planets</span> and other objects in orbit around\n",
       "</pre>\n"
      ],
      "text/plain": [
       "and light to support life on Earth It is by far the \u001b[30;48;2;255;255;0mlargest\u001b[0m object in the \u001b[30;48;2;255;255;0msolar\u001b[0m system containing more than 99 of \n",
       "the total \u001b[30;48;2;255;255;0mmass\u001b[0m The Sun immense \u001b[30;48;2;255;255;0mgravity\u001b[0m keeps the \u001b[30;48;2;255;255;0mplanets\u001b[0m and other objects in orbit around\n"
      ]
     },
     "metadata": {},
     "output_type": "display_data"
    },
    {
     "data": {
      "text/html": [
       "<pre style=\"white-space:pre;overflow-x:auto;line-height:normal;font-family:Menlo,'DejaVu Sans Mono',consolas,'Courier New',monospace\">it The <span style=\"color: #000000; text-decoration-color: #000000; background-color: #ffff00\">planets</span> are divided into two categories based on their composition <span style=\"color: #000000; text-decoration-color: #000000; background-color: #ffff00\">terrestrial</span> and gas <span style=\"color: #000000; text-decoration-color: #000000; background-color: #ffff00\">giants</span> The four \n",
       "<span style=\"color: #000000; text-decoration-color: #000000; background-color: #ffff00\">terrestrial</span> <span style=\"color: #000000; text-decoration-color: #000000; background-color: #ffff00\">planets</span> <span style=\"color: #000000; text-decoration-color: #000000; background-color: #ffff00\">Mercury</span> <span style=\"color: #000000; text-decoration-color: #000000; background-color: #ffff00\">Venus</span> Earth and Mars are composed mostly of rock and metal <span style=\"color: #000000; text-decoration-color: #000000; background-color: #ffff00\">Mercury</span>\n",
       "</pre>\n"
      ],
      "text/plain": [
       "it The \u001b[30;48;2;255;255;0mplanets\u001b[0m are divided into two categories based on their composition \u001b[30;48;2;255;255;0mterrestrial\u001b[0m and gas \u001b[30;48;2;255;255;0mgiants\u001b[0m The four \n",
       "\u001b[30;48;2;255;255;0mterrestrial\u001b[0m \u001b[30;48;2;255;255;0mplanets\u001b[0m \u001b[30;48;2;255;255;0mMercury\u001b[0m \u001b[30;48;2;255;255;0mVenus\u001b[0m Earth and Mars are composed mostly of rock and metal \u001b[30;48;2;255;255;0mMercury\u001b[0m\n"
      ]
     },
     "metadata": {},
     "output_type": "display_data"
    },
    {
     "data": {
      "text/html": [
       "<pre style=\"white-space:pre;overflow-x:auto;line-height:normal;font-family:Menlo,'DejaVu Sans Mono',consolas,'Courier New',monospace\">the smallest and closest to the Sun has surface covered with <span style=\"color: #000000; text-decoration-color: #000000; background-color: #ffff00\">craters</span> similar to our Moon <span style=\"color: #000000; text-decoration-color: #000000; background-color: #ffff00\">Venus</span> the second planet is\n",
       "known for its thick <span style=\"color: #000000; text-decoration-color: #000000; background-color: #ffff00\">toxic</span> atmosphere and extreme surface <span style=\"color: #000000; text-decoration-color: #000000; background-color: #ffff00\">temperatures</span> <span style=\"color: #000000; text-decoration-color: #000000; background-color: #ffff00\">Earth</span> the third planet\n",
       "</pre>\n"
      ],
      "text/plain": [
       "the smallest and closest to the Sun has surface covered with \u001b[30;48;2;255;255;0mcraters\u001b[0m similar to our Moon \u001b[30;48;2;255;255;0mVenus\u001b[0m the second planet is\n",
       "known for its thick \u001b[30;48;2;255;255;0mtoxic\u001b[0m atmosphere and extreme surface \u001b[30;48;2;255;255;0mtemperatures\u001b[0m \u001b[30;48;2;255;255;0mEarth\u001b[0m the third planet\n"
      ]
     },
     "metadata": {},
     "output_type": "display_data"
    },
    {
     "data": {
      "text/html": [
       "<pre style=\"white-space:pre;overflow-x:auto;line-height:normal;font-family:Menlo,'DejaVu Sans Mono',consolas,'Courier New',monospace\">is <span style=\"color: #000000; text-decoration-color: #000000; background-color: #ffff00\">unique</span> for its abundant liquid water and life <span style=\"color: #000000; text-decoration-color: #000000; background-color: #ffff00\">Mars</span> the fourth planet is often called the Red Planet due to its \n",
       "<span style=\"color: #000000; text-decoration-color: #000000; background-color: #ffff00\">reddish</span> appearance which is the result of iron <span style=\"color: #000000; text-decoration-color: #000000; background-color: #ffff00\">oxide</span> or <span style=\"color: #000000; text-decoration-color: #000000; background-color: #ffff00\">rust</span> on its surface Beyond\n",
       "</pre>\n"
      ],
      "text/plain": [
       "is \u001b[30;48;2;255;255;0munique\u001b[0m for its abundant liquid water and life \u001b[30;48;2;255;255;0mMars\u001b[0m the fourth planet is often called the Red Planet due to its \n",
       "\u001b[30;48;2;255;255;0mreddish\u001b[0m appearance which is the result of iron \u001b[30;48;2;255;255;0moxide\u001b[0m or \u001b[30;48;2;255;255;0mrust\u001b[0m on its surface Beyond\n"
      ]
     },
     "metadata": {},
     "output_type": "display_data"
    },
    {
     "data": {
      "text/html": [
       "<pre style=\"white-space:pre;overflow-x:auto;line-height:normal;font-family:Menlo,'DejaVu Sans Mono',consolas,'Courier New',monospace\">the <span style=\"color: #000000; text-decoration-color: #000000; background-color: #ffff00\">asteroid</span> <span style=\"color: #000000; text-decoration-color: #000000; background-color: #ffff00\">belt</span> which lies between Mars and <span style=\"color: #000000; text-decoration-color: #000000; background-color: #ffff00\">Jupiter</span> are the <span style=\"color: #000000; text-decoration-color: #000000; background-color: #ffff00\">gas</span> <span style=\"color: #000000; text-decoration-color: #000000; background-color: #ffff00\">giants</span> <span style=\"color: #000000; text-decoration-color: #000000; background-color: #ffff00\">Jupiter</span> Saturn Uranus and Neptune <span style=\"color: #000000; text-decoration-color: #000000; background-color: #ffff00\">Jupiter</span> \n",
       "the largest planet is colossal <span style=\"color: #000000; text-decoration-color: #000000; background-color: #ffff00\">gas</span> giant with thick atmosphere dominated by hydrogen and\n",
       "</pre>\n"
      ],
      "text/plain": [
       "the \u001b[30;48;2;255;255;0masteroid\u001b[0m \u001b[30;48;2;255;255;0mbelt\u001b[0m which lies between Mars and \u001b[30;48;2;255;255;0mJupiter\u001b[0m are the \u001b[30;48;2;255;255;0mgas\u001b[0m \u001b[30;48;2;255;255;0mgiants\u001b[0m \u001b[30;48;2;255;255;0mJupiter\u001b[0m Saturn Uranus and Neptune \u001b[30;48;2;255;255;0mJupiter\u001b[0m \n",
       "the largest planet is colossal \u001b[30;48;2;255;255;0mgas\u001b[0m giant with thick atmosphere dominated by hydrogen and\n"
      ]
     },
     "metadata": {},
     "output_type": "display_data"
    },
    {
     "data": {
      "text/html": [
       "<pre style=\"white-space:pre;overflow-x:auto;line-height:normal;font-family:Menlo,'DejaVu Sans Mono',consolas,'Courier New',monospace\"><span style=\"color: #000000; text-decoration-color: #000000; background-color: #ffff00\">helium</span> It has strong magnetic field and dozens of <span style=\"color: #000000; text-decoration-color: #000000; background-color: #ffff00\">moons</span> including the four large <span style=\"color: #000000; text-decoration-color: #000000; background-color: #ffff00\">Galilean</span> <span style=\"color: #000000; text-decoration-color: #000000; background-color: #ffff00\">moons</span> Io Europa Ganymede \n",
       "and Callisto <span style=\"color: #000000; text-decoration-color: #000000; background-color: #ffff00\">Saturn</span> the second largest <span style=\"color: #000000; text-decoration-color: #000000; background-color: #ffff00\">planet</span> is easily recognizable\n",
       "</pre>\n"
      ],
      "text/plain": [
       "\u001b[30;48;2;255;255;0mhelium\u001b[0m It has strong magnetic field and dozens of \u001b[30;48;2;255;255;0mmoons\u001b[0m including the four large \u001b[30;48;2;255;255;0mGalilean\u001b[0m \u001b[30;48;2;255;255;0mmoons\u001b[0m Io Europa Ganymede \n",
       "and Callisto \u001b[30;48;2;255;255;0mSaturn\u001b[0m the second largest \u001b[30;48;2;255;255;0mplanet\u001b[0m is easily recognizable\n"
      ]
     },
     "metadata": {},
     "output_type": "display_data"
    },
    {
     "data": {
      "text/html": [
       "<pre style=\"white-space:pre;overflow-x:auto;line-height:normal;font-family:Menlo,'DejaVu Sans Mono',consolas,'Courier New',monospace\">by its extensive ring system composed of ice and rock <span style=\"color: #000000; text-decoration-color: #000000; background-color: #ffff00\">particles</span> <span style=\"color: #000000; text-decoration-color: #000000; background-color: #ffff00\">Uranus</span> and Neptune often referred to as ice <span style=\"color: #000000; text-decoration-color: #000000; background-color: #ffff00\">giants</span> \n",
       "have composition that includes more <span style=\"color: #000000; text-decoration-color: #000000; background-color: #ffff00\">ices</span> such as water <span style=\"color: #000000; text-decoration-color: #000000; background-color: #ffff00\">ammonia</span> and methane compared to\n",
       "</pre>\n"
      ],
      "text/plain": [
       "by its extensive ring system composed of ice and rock \u001b[30;48;2;255;255;0mparticles\u001b[0m \u001b[30;48;2;255;255;0mUranus\u001b[0m and Neptune often referred to as ice \u001b[30;48;2;255;255;0mgiants\u001b[0m \n",
       "have composition that includes more \u001b[30;48;2;255;255;0mices\u001b[0m such as water \u001b[30;48;2;255;255;0mammonia\u001b[0m and methane compared to\n"
      ]
     },
     "metadata": {},
     "output_type": "display_data"
    },
    {
     "data": {
      "text/html": [
       "<pre style=\"white-space:pre;overflow-x:auto;line-height:normal;font-family:Menlo,'DejaVu Sans Mono',consolas,'Courier New',monospace\"><span style=\"color: #000000; text-decoration-color: #000000; background-color: #ffff00\">Jupiter</span> and <span style=\"color: #000000; text-decoration-color: #000000; background-color: #ffff00\">Saturn</span> <span style=\"color: #000000; text-decoration-color: #000000; background-color: #ffff00\">Uranus</span> is unique in that it rotates on its side possibly due to colossal collision early in its \n",
       "history Neptune the <span style=\"color: #000000; text-decoration-color: #000000; background-color: #ffff00\">farthest</span> planet from the Sun is known for its strong <span style=\"color: #000000; text-decoration-color: #000000; background-color: #ffff00\">winds</span> and intense blue\n",
       "</pre>\n"
      ],
      "text/plain": [
       "\u001b[30;48;2;255;255;0mJupiter\u001b[0m and \u001b[30;48;2;255;255;0mSaturn\u001b[0m \u001b[30;48;2;255;255;0mUranus\u001b[0m is unique in that it rotates on its side possibly due to colossal collision early in its \n",
       "history Neptune the \u001b[30;48;2;255;255;0mfarthest\u001b[0m planet from the Sun is known for its strong \u001b[30;48;2;255;255;0mwinds\u001b[0m and intense blue\n"
      ]
     },
     "metadata": {},
     "output_type": "display_data"
    },
    {
     "data": {
      "text/html": [
       "<pre style=\"white-space:pre;overflow-x:auto;line-height:normal;font-family:Menlo,'DejaVu Sans Mono',consolas,'Courier New',monospace\">color caused by the <span style=\"color: #000000; text-decoration-color: #000000; background-color: #ffff00\">absorption</span> of red light by <span style=\"color: #000000; text-decoration-color: #000000; background-color: #ffff00\">methane</span> in the atmosphere In addition to the eight <span style=\"color: #000000; text-decoration-color: #000000; background-color: #ffff00\">planets</span> the <span style=\"color: #000000; text-decoration-color: #000000; background-color: #ffff00\">solar</span>\n",
       "system contains five recognized <span style=\"color: #000000; text-decoration-color: #000000; background-color: #ffff00\">dwarf</span> <span style=\"color: #000000; text-decoration-color: #000000; background-color: #ffff00\">planets</span> Pluto Eris Haumea Makemake and\n",
       "</pre>\n"
      ],
      "text/plain": [
       "color caused by the \u001b[30;48;2;255;255;0mabsorption\u001b[0m of red light by \u001b[30;48;2;255;255;0mmethane\u001b[0m in the atmosphere In addition to the eight \u001b[30;48;2;255;255;0mplanets\u001b[0m the \u001b[30;48;2;255;255;0msolar\u001b[0m\n",
       "system contains five recognized \u001b[30;48;2;255;255;0mdwarf\u001b[0m \u001b[30;48;2;255;255;0mplanets\u001b[0m Pluto Eris Haumea Makemake and\n"
      ]
     },
     "metadata": {},
     "output_type": "display_data"
    },
    {
     "data": {
      "text/html": [
       "<pre style=\"white-space:pre;overflow-x:auto;line-height:normal;font-family:Menlo,'DejaVu Sans Mono',consolas,'Courier New',monospace\">Ceres <span style=\"color: #000000; text-decoration-color: #000000; background-color: #ffff00\">Pluto</span> once considered the <span style=\"color: #000000; text-decoration-color: #000000; background-color: #ffff00\">ninth</span> planet was <span style=\"color: #000000; text-decoration-color: #000000; background-color: #ffff00\">reclassified</span> as <span style=\"color: #000000; text-decoration-color: #000000; background-color: #ffff00\">dwarf</span> planet in 2006 by the International \n",
       "Astronomical Union These <span style=\"color: #000000; text-decoration-color: #000000; background-color: #ffff00\">dwarf</span> <span style=\"color: #000000; text-decoration-color: #000000; background-color: #ffff00\">planets</span> share characteristics with the main <span style=\"color: #000000; text-decoration-color: #000000; background-color: #ffff00\">planets</span> but have not cleared their \n",
       "orbits of other debris\n",
       "</pre>\n"
      ],
      "text/plain": [
       "Ceres \u001b[30;48;2;255;255;0mPluto\u001b[0m once considered the \u001b[30;48;2;255;255;0mninth\u001b[0m planet was \u001b[30;48;2;255;255;0mreclassified\u001b[0m as \u001b[30;48;2;255;255;0mdwarf\u001b[0m planet in 2006 by the International \n",
       "Astronomical Union These \u001b[30;48;2;255;255;0mdwarf\u001b[0m \u001b[30;48;2;255;255;0mplanets\u001b[0m share characteristics with the main \u001b[30;48;2;255;255;0mplanets\u001b[0m but have not cleared their \n",
       "orbits of other debris\n"
      ]
     },
     "metadata": {},
     "output_type": "display_data"
    },
    {
     "data": {
      "text/html": [
       "<pre style=\"white-space:pre;overflow-x:auto;line-height:normal;font-family:Menlo,'DejaVu Sans Mono',consolas,'Courier New',monospace\">The solar system also includes various <span style=\"color: #000000; text-decoration-color: #000000; background-color: #ffff00\">small</span> bodies such as <span style=\"color: #000000; text-decoration-color: #000000; background-color: #ffff00\">asteroids</span> and comets The asteroid <span style=\"color: #000000; text-decoration-color: #000000; background-color: #ffff00\">belt</span> is region filled\n",
       "with rocky objects between Mars and <span style=\"color: #000000; text-decoration-color: #000000; background-color: #ffff00\">Jupiter</span> Some <span style=\"color: #000000; text-decoration-color: #000000; background-color: #ffff00\">asteroids</span> are large enough to be considered minor <span style=\"color: #000000; text-decoration-color: #000000; background-color: #ffff00\">planets</span> while\n",
       "</pre>\n"
      ],
      "text/plain": [
       "The solar system also includes various \u001b[30;48;2;255;255;0msmall\u001b[0m bodies such as \u001b[30;48;2;255;255;0masteroids\u001b[0m and comets The asteroid \u001b[30;48;2;255;255;0mbelt\u001b[0m is region filled\n",
       "with rocky objects between Mars and \u001b[30;48;2;255;255;0mJupiter\u001b[0m Some \u001b[30;48;2;255;255;0masteroids\u001b[0m are large enough to be considered minor \u001b[30;48;2;255;255;0mplanets\u001b[0m while\n"
      ]
     },
     "metadata": {},
     "output_type": "display_data"
    },
    {
     "data": {
      "text/html": [
       "<pre style=\"white-space:pre;overflow-x:auto;line-height:normal;font-family:Menlo,'DejaVu Sans Mono',consolas,'Courier New',monospace\">others are just tiny <span style=\"color: #000000; text-decoration-color: #000000; background-color: #ffff00\">rocks</span> <span style=\"color: #000000; text-decoration-color: #000000; background-color: #ffff00\">Comets</span> composed mostly of ice and <span style=\"color: #000000; text-decoration-color: #000000; background-color: #ffff00\">dust</span> <span style=\"color: #000000; text-decoration-color: #000000; background-color: #ffff00\">originate</span> from the Kuiper Belt and Oort Cloud \n",
       "regions of space beyond <span style=\"color: #000000; text-decoration-color: #000000; background-color: #ffff00\">Neptune</span> When comet approaches the Sun it heats up\n",
       "</pre>\n"
      ],
      "text/plain": [
       "others are just tiny \u001b[30;48;2;255;255;0mrocks\u001b[0m \u001b[30;48;2;255;255;0mComets\u001b[0m composed mostly of ice and \u001b[30;48;2;255;255;0mdust\u001b[0m \u001b[30;48;2;255;255;0moriginate\u001b[0m from the Kuiper Belt and Oort Cloud \n",
       "regions of space beyond \u001b[30;48;2;255;255;0mNeptune\u001b[0m When comet approaches the Sun it heats up\n"
      ]
     },
     "metadata": {},
     "output_type": "display_data"
    },
    {
     "data": {
      "text/html": [
       "<pre style=\"white-space:pre;overflow-x:auto;line-height:normal;font-family:Menlo,'DejaVu Sans Mono',consolas,'Courier New',monospace\">releasing gas and dust that form <span style=\"color: #000000; text-decoration-color: #000000; background-color: #ffff00\">glowing</span> <span style=\"color: #000000; text-decoration-color: #000000; background-color: #ffff00\">coma</span> and often spectacular tail <span style=\"color: #000000; text-decoration-color: #000000; background-color: #ffff00\">Understanding</span> the <span style=\"color: #000000; text-decoration-color: #000000; background-color: #ffff00\">solar</span> system is crucial \n",
       "for grasping our place in the universe Through exploration and observation scientists continue to uncover the \n",
       "mysteries of our <span style=\"color: #000000; text-decoration-color: #000000; background-color: #ffff00\">cosmic</span> neighborhood\n",
       "</pre>\n"
      ],
      "text/plain": [
       "releasing gas and dust that form \u001b[30;48;2;255;255;0mglowing\u001b[0m \u001b[30;48;2;255;255;0mcoma\u001b[0m and often spectacular tail \u001b[30;48;2;255;255;0mUnderstanding\u001b[0m the \u001b[30;48;2;255;255;0msolar\u001b[0m system is crucial \n",
       "for grasping our place in the universe Through exploration and observation scientists continue to uncover the \n",
       "mysteries of our \u001b[30;48;2;255;255;0mcosmic\u001b[0m neighborhood\n"
      ]
     },
     "metadata": {},
     "output_type": "display_data"
    },
    {
     "data": {
      "text/html": [
       "<pre style=\"white-space:pre;overflow-x:auto;line-height:normal;font-family:Menlo,'DejaVu Sans Mono',consolas,'Courier New',monospace\">gaining insights into the formation and evolution of <span style=\"color: #000000; text-decoration-color: #000000; background-color: #ffff00\">planetary</span> systems The <span style=\"color: #000000; text-decoration-color: #000000; background-color: #ffff00\">study</span> of the <span style=\"color: #000000; text-decoration-color: #000000; background-color: #ffff00\">solar</span> system not only \n",
       "satisfies our <span style=\"color: #000000; text-decoration-color: #000000; background-color: #ffff00\">curiosity</span> but also provides <span style=\"color: #000000; text-decoration-color: #000000; background-color: #ffff00\">valuable</span> knowledge that can help protect and sustain life on Earth\n",
       "</pre>\n"
      ],
      "text/plain": [
       "gaining insights into the formation and evolution of \u001b[30;48;2;255;255;0mplanetary\u001b[0m systems The \u001b[30;48;2;255;255;0mstudy\u001b[0m of the \u001b[30;48;2;255;255;0msolar\u001b[0m system not only \n",
       "satisfies our \u001b[30;48;2;255;255;0mcuriosity\u001b[0m but also provides \u001b[30;48;2;255;255;0mvaluable\u001b[0m knowledge that can help protect and sustain life on Earth\n"
      ]
     },
     "metadata": {},
     "output_type": "display_data"
    },
    {
     "name": "stdout",
     "output_type": "stream",
     "text": [
      "{'document': '/Users/pradhikshasuresh/Documents/Python/The Solar System.pdf', 'title': 'The Solar System', 'author': 'xyz', 'url': 'http://localhost:8888/edit/Documents/Python/solarsystem.pdf', 'doc': \" and light to support life on Earth. It is by far the largest object in the solar system, containing more \\nthan 99.8% of the total mass. The Sun's immense gravity keeps the planets and other objects in orbit around \\n\", 'keywords': ['planets', 'gravity', 'solar', 'mass', 'largest'], 'topics':    Topic  Count                         Name  \\\n",
      "0     -1     16  -1_planet_planets_solar_sun   \n",
      "\n",
      "                                      Representation  \\\n",
      "0  [planet, planets, solar, sun, jupiter, dwarf, ...   \n",
      "\n",
      "                                 Representative_Docs  \n",
      "0  [planets, their moons, dwarf planets, and coun...  }\n"
     ]
    }
   ],
   "source": [
    "# Example usage\n",
    "pdf_path = '/Users/pradhikshasuresh/Documents/Python/The Solar System.pdf'\n",
    "enriched_metadata = enrich_metadata(pdf_path)\n",
    "print(enriched_metadata[2])  # Print metadata and keywords for the third chunk"
   ]
  }
 ],
 "metadata": {
  "kernelspec": {
   "display_name": "Python 3 (ipykernel)",
   "language": "python",
   "name": "python3"
  },
  "language_info": {
   "codemirror_mode": {
    "name": "ipython",
    "version": 3
   },
   "file_extension": ".py",
   "mimetype": "text/x-python",
   "name": "python",
   "nbconvert_exporter": "python",
   "pygments_lexer": "ipython3",
   "version": "3.12.4"
  }
 },
 "nbformat": 4,
 "nbformat_minor": 5
}
