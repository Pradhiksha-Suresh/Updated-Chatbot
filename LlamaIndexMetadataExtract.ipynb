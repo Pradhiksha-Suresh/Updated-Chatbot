{
 "cells": [
  {
   "cell_type": "code",
   "execution_count": null,
   "id": "dcdec9eb-df90-4725-abfd-0a5ff191b7ae",
   "metadata": {},
   "outputs": [],
   "source": [
    "#pip install llama_index PyPDF2\n",
    "#pip install llama-index\n",
    "#pip install llama-index-extractors-entity"
   ]
  },
  {
   "cell_type": "code",
   "execution_count": null,
   "id": "6b5b190d-8f7e-4283-b35a-1b78592e8ff2",
   "metadata": {},
   "outputs": [],
   "source": [
    "# Function to load a PDF file and extract text\n",
    "from llama_index.core import Document\n",
    "from llama_index.core.schema import MetadataMode\n",
    "from llama_index.llms.openai import OpenAI\n",
    "import os\n",
    "\n",
    "def load_pdf(file_path):\n",
    "    doc = fitz.open(file_path)\n",
    "    text = \"\"\n",
    "    for page_num in range(len(doc)):\n",
    "        page = doc.load_page(page_num)\n",
    "        text += page.get_text()\n",
    "    return text\n",
    "# Define the path to your PDF file\n",
    "pdf_path = \"/Users/pradhikshasuresh/Documents/Python/The Solar System.pdf\"  \n",
    "pdf_text = load_pdf(pdf_path)\n",
    "\n",
    "document_metadata = {\n",
    "    \"file_name\": \"The Solar System.pdf\",  \n",
    "    \"category\": \"Science\",\n",
    "    \"author\": \"Pradhiksha\"\n",
    "}\n",
    "document = Document(\n",
    "    text=pdf_text,\n",
    "    metadata=document_metadata\n",
    ")\n",
    "documents = [document]\n",
    "\n",
    "#setup OpenAPI key\n",
    "os.environ[\"OPENAI_API_KEY\"] = \"My_openapi_key\"\n",
    "llm = OpenAI(model=\"gpt-3.5-turbo\", temperature=0.2)\n",
    "\n",
    "from llama_index.core.extractors import (\n",
    "    TitleExtractor,\n",
    "    QuestionsAnsweredExtractor,\n",
    "    SummaryExtractor,\n",
    "    TitleExtractor,\n",
    "    KeywordExtractor\n",
    ")\n",
    "from llama_index.core.node_parser import SentenceSplitter\n",
    "#Define Extractors\n",
    "entity_extractor = EntityExtractor(\n",
    "    prediction_threshold=0.5,\n",
    "    label_entities=False,  \n",
    "    device=\"cpu\",  \n",
    ")\n",
    "qa_extractor = QuestionsAnsweredExtractor(questions=3,llm=llm)\n",
    "summary_extractor = SummaryExtractor(summaries=[\"prev\", \"self\"], llm=llm)\n",
    "title_extractor = TitleExtractor(nodes=5, llm=llm)\n",
    "keyword_extractor = KeywordExtractor(keywords=10, llm=llm)\n",
    "node_parser = SentenceSplitter()\n",
    "\n",
    "transformations = [node_parser, title_extractor, entity_extractor,summary_extractor, qa_extractor, keyword_extractor]\n",
    "\n",
    "from llama_index.core.ingestion import IngestionPipeline\n",
    "pipeline = IngestionPipeline(transformations=transformations)\n",
    "\n",
    "nodes = pipeline.run(documents=documents)\n",
    "\n",
    "#print metadata\n",
    "import random\n",
    "samples = random.sample(nodes, 1)\n",
    "for node in samples:\n",
    "    print(node.metadata)"
   ]
  },
  {
   "cell_type": "code",
   "execution_count": null,
   "id": "f4a7d51b-3196-477c-a199-6b2ddef3d89c",
   "metadata": {},
   "outputs": [],
   "source": []
  }
 ],
 "metadata": {
  "kernelspec": {
   "display_name": "Python 3 (ipykernel)",
   "language": "python",
   "name": "python3"
  },
  "language_info": {
   "codemirror_mode": {
    "name": "ipython",
    "version": 3
   },
   "file_extension": ".py",
   "mimetype": "text/x-python",
   "name": "python",
   "nbconvert_exporter": "python",
   "pygments_lexer": "ipython3",
   "version": "3.12.4"
  }
 },
 "nbformat": 4,
 "nbformat_minor": 5
}
